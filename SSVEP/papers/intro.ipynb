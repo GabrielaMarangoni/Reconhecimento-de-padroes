{
 "cells": [
  {
   "cell_type": "markdown",
   "metadata": {},
   "source": [
    "# Artigo:\n"
   ]
  },
  {
   "cell_type": "markdown",
   "metadata": {},
   "source": [
    "##  \"**A dataset of EEG signals from a single-channel SSVEP-based brain computer interface**\"\n"
   ]
  },
  {
   "cell_type": "markdown",
   "metadata": {},
   "source": [
    "Resumo: Este estudo se concentra em coletar dados de eletroencefalografia (EEG) usando um dispositivo portátil de interface cérebro-computador (BCI) baseado em potenciais evocados visuais de estado estável (SSVEP). O objetivo é fornecer um conjunto de dados de EEG de um único canal para pesquisadores interessados em desenvolver e testar algoritmos de BCI. O estudo foi realizado em onze voluntários saudáveis, que foram equipados com o dispositivo de aquisição e submetidos a experimentos baseados em estímulos visuais repetitivos com quatro diferentes frequências de cintilação. O PDF não contém informações detalhadas sobre a análise dos dados ou suas aplicações, mas fornece uma visão geral do conjunto de dados e do dispositivo de aquisição usado."
   ]
  }
 ],
 "metadata": {
  "language_info": {
   "name": "python"
  },
  "orig_nbformat": 4
 },
 "nbformat": 4,
 "nbformat_minor": 2
}
