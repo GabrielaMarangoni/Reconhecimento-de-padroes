{
 "cells": [
  {
   "cell_type": "markdown",
   "metadata": {},
   "source": [
    "# **Artigos**:\n"
   ]
  },
  {
   "cell_type": "markdown",
   "metadata": {},
   "source": [
    "##  \"**A dataset of EEG signals from a single-channel SSVEP-based brain computer interface**\"\n"
   ]
  },
  {
   "cell_type": "markdown",
   "metadata": {},
   "source": [
    "Resumo: Este estudo se concentra em coletar dados de eletroencefalografia (EEG) usando um dispositivo portátil de interface cérebro-computador (BCI) baseado em potenciais evocados visuais de estado estável (SSVEP). O objetivo é fornecer um conjunto de dados de EEG de um único canal para pesquisadores interessados em desenvolver e testar algoritmos de BCI. O estudo foi realizado em onze voluntários saudáveis, que foram equipados com o dispositivo de aquisição e submetidos a experimentos baseados em estímulos visuais repetitivos com quatro diferentes frequências de cintilação. O PDF não contém informações detalhadas sobre a análise dos dados ou suas aplicações, mas fornece uma visão geral do conjunto de dados e do dispositivo de aquisição usado."
   ]
  },
  {
   "cell_type": "markdown",
   "metadata": {},
   "source": [
    "##  \"**BETA: A Large Benchmark Database Toward SSVEP-BCI Application**\""
   ]
  },
  {
   "cell_type": "markdown",
   "metadata": {},
   "source": [
    "Resumo: Este artigo se trata do BETA, um banco de dados de referência para aplicação de SSVEP-BCI, que é uma interface cérebro-computador que utiliza sinais elétricos gerados pelo cérebro para controlar dispositivos externos. O artigo apresenta informações detalhadas sobre os materiais e métodos utilizados no estudo, incluindo os participantes e critérios de recrutamento. Além disso, o artigo discute os resultados da análise de classificação e recomenda o uso do SNR de banda larga no nível de teste único e do quociente BCI no nível populacional para caracterizar SSVEP. O banco de dados BETA está disponível para download online e tem o potencial de abrir caminho para aplicações práticas de BCI. O artigo também discute os potenciais benefícios do SSVEP-BCI para indivíduos com deficiências de comunicação, como a possibilidade de melhorar a qualidade de vida dessas pessoas.\n",
    "\n",
    "O estudo contou com a participação de 70 voluntários saudáveis, sendo 42 homens e 28 mulheres, com idades variando de 9 a 64 anos.\n",
    "\n",
    "\n",
    "\n",
    "**TRABALHO**\n",
    "Participante 6; Se tiver erro, com problema, somar + 13;"
   ]
  }
 ],
 "metadata": {
  "language_info": {
   "name": "python"
  },
  "orig_nbformat": 4
 },
 "nbformat": 4,
 "nbformat_minor": 2
}
