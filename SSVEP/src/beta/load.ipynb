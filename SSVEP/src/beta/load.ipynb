{
 "cells": [
  {
   "cell_type": "markdown",
   "metadata": {},
   "source": [
    "Carregamento das bibliotecas que serão utilizadas neste notebook."
   ]
  },
  {
   "cell_type": "code",
   "execution_count": 39,
   "metadata": {},
   "outputs": [],
   "source": [
    "from scipy.io import loadmat\n",
    "import numpy as np"
   ]
  },
  {
   "cell_type": "markdown",
   "metadata": {},
   "source": [
    "Carrega e pega os dados"
   ]
  },
  {
   "cell_type": "code",
   "execution_count": 44,
   "metadata": {},
   "outputs": [
    {
     "data": {
      "text/plain": [
       "(64,)"
      ]
     },
     "execution_count": 44,
     "metadata": {},
     "output_type": "execute_result"
    }
   ],
   "source": [
    "data = loadmat(f\"../../datasets/avi/beta/S6.mat\", struct_as_record=True)\n",
    "\n",
    "dados = data['data'][0][0][0]\n",
    "label = data['data'][0][0][1][0][0][4][0]\n",
    "\n",
    "# dados.shape, label.shape\n",
    "data['data'][0][0][1][0][0][3][0][3][0]\n",
    "chan = data['data'][0][0][1][0][0][3]\n",
    "\n",
    "channels = []\n",
    "\n",
    "for i in range(len(chan)):\n",
    "    channels.append(chan[i][3][0])\n",
    "\n",
    "channels = np.array(channels)\n",
    "channels.shape\n",
    "\n",
    "# [0][0][0][3][0]"
   ]
  },
  {
   "cell_type": "markdown",
   "metadata": {},
   "source": [
    "Organiza os dados\n"
   ]
  },
  {
   "cell_type": "code",
   "execution_count": 45,
   "metadata": {},
   "outputs": [
    {
     "data": {
      "text/plain": [
       "(1, 40)"
      ]
     },
     "execution_count": 45,
     "metadata": {},
     "output_type": "execute_result"
    }
   ],
   "source": [
    "data_reshape = np.reshape(dados, (64, 750, 160))\n",
    "data_reshape = np.swapaxes(data_reshape, 2, 0)\n",
    "data_reshape = np.swapaxes(data_reshape, 2, 1)\n",
    "\n",
    "label_reshape = np.reshape(label, (1, 40))\n",
    "label_reshape.shape"
   ]
  },
  {
   "cell_type": "markdown",
   "metadata": {},
   "source": [
    "Salva os dados\n"
   ]
  },
  {
   "cell_type": "code",
   "execution_count": 36,
   "metadata": {},
   "outputs": [],
   "source": [
    "np.save(\"../../datasets/avi/beta/data_beta.npy\", data_reshape)\n",
    "np.save(\"../../datasets/avi/beta/labels_beta.npy\", label)\n",
    "np.save(\"../../datasets/avi/beta/channels_beta.npy\", channels)"
   ]
  }
 ],
 "metadata": {
  "kernelspec": {
   "display_name": "Python 3",
   "language": "python",
   "name": "python3"
  },
  "language_info": {
   "codemirror_mode": {
    "name": "ipython",
    "version": 3
   },
   "file_extension": ".py",
   "mimetype": "text/x-python",
   "name": "python",
   "nbconvert_exporter": "python",
   "pygments_lexer": "ipython3",
   "version": "3.10.8"
  },
  "orig_nbformat": 4
 },
 "nbformat": 4,
 "nbformat_minor": 2
}
