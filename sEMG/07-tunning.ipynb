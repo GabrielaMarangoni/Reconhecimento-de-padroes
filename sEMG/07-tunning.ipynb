{
 "cells": [
  {
   "attachments": {},
   "cell_type": "markdown",
   "id": "bf19bee2",
   "metadata": {},
   "source": [
    "# Aprimorando de parâmetros dos classificadores\n",
    "\n",
    "Nesta etapa vamos testar os diversos parâmetros que podem ser utilizados pelo classificador SVM, além de realizar etapas anteriores de normalização dos dados."
   ]
  },
  {
   "cell_type": "code",
   "execution_count": 2,
   "id": "39b2cafd",
   "metadata": {},
   "outputs": [],
   "source": [
    "# carregamento de dados das etapas anteriores\n",
    "\n",
    "X = np.load('temp_data/khushaba_feat.npy')\n",
    "y = np.load('temp_data/khushaba_lab.npy')"
   ]
  },
  {
   "attachments": {},
   "cell_type": "markdown",
   "id": "9d9a62ff",
   "metadata": {},
   "source": [
    "## Normalização"
   ]
  },
  {
   "cell_type": "code",
   "execution_count": 23,
   "id": "011f6946",
   "metadata": {},
   "outputs": [
    {
     "name": "stdout",
     "output_type": "stream",
     "text": [
      "Acurácia: 73.04%\n",
      "Acurácia: 70.87%\n",
      "Acurácia: 72.36%\n",
      "Acurácia: 70.73%\n"
     ]
    }
   ],
   "source": [
    "from sklearn.preprocessing import (StandardScaler, MinMaxScaler, MaxAbsScaler, RobustScaler)\n",
    "from sklearn.model_selection import train_test_split\n",
    "from sklearn.svm import SVC\n",
    "\n",
    "\n",
    "for scaler in (StandardScaler(), MinMaxScaler(), MaxAbsScaler(), RobustScaler()):\n",
    "    X_scaled = scaler.fit_transform(X)\n",
    "    X_train, X_test, y_train, y_test = train_test_split(X_scaled, y, test_size=0.3, shuffle=True)\n",
    "    clf = SVC(kernel='rbf', gamma='scale')\n",
    "    clf.fit(X_train, y_train)\n",
    "    res = clf.predict(X_test)\n",
    "    tot_hit = sum([1 for i in range(len(res)) if res[i] == y_test[i]])\n",
    "    print('Acurácia: {:.2f}%'.format(tot_hit / X_test.shape[0] * 100))"
   ]
  },
  {
   "attachments": {},
   "cell_type": "markdown",
   "id": "ded6c557",
   "metadata": {},
   "source": [
    "## Hiperparametrização\n",
    "\n",
    "Podemos utilizar diversas variações ligadas ao classificador SVM, além de elementos que contribuem com a **validação cruzada** dos dados.\n",
    "\n",
    "Primeiramente, vamos exemplificar os `kernels`. Você pode selecionar o `kernel` especificando o parâmetro `kernel` no objeto `SVC`. Os valores possíveis são \"`linear`\", \"`poly`\", \"`rbf`\" (padrão) e outros. Por exemplo: `svm_model = SVC(kernel='linear')`.\n",
    "\n",
    "Para cada `kernel` ainda podemos selecionar um ajuste para o parâmetro específico. Se você estiver usando um `kernel` polinomial, pode ajustar o grau do polinômio especificando o parâmetro `degree` no objeto `SVC`. Se estiver usando um `kernel RBF`, pode ajustar o parâmetro de largura de `banda gamma` especificando o parâmetro `gamma`. Por exemplo: `svm_model = SVC(kernel='poly', degree=3)`.\n",
    "\n",
    "O parâmetro de regularização `C` pode ser ajustado especificado no objeto `SVC`. Você pode experimentar diferentes valores de `C` usando validação cruzada para encontrar o melhor. Por exemplo: `svm_model = SVC(C=1.0)`.\n",
    "\n",
    "Existem outros hiperparâmetros disponíveis para ajustar o desempenho do `SVM`, como `coef0` (coeficiente na função `kernel`) e `tol` (tolerância para critério de parada). **Pesquise como deve ser adicionado estes parâmetros**.\n",
    "\n",
    "Para testar os diversos hiperparâmetros, podemos utilizar a classe `GridSearchCV` para realizar a validação cruzada e encontrar os melhores automaticamente. É necessário definir um dicionário com os parâmetros que deseja ajustar e seus respectivos valores a serem testados. Em seguida, você pode fornecer esse dicionário e o objeto `SVC` ao `GridSearchCV` para executar a pesquisa. **Pesquise como ocorre o funcionamento da aplicação do `GridSearchCV` para todos os tipos de hiperparametrização citados acima**. Por fim, para obter a lista dos melhores, declaramos algo do tipo: `best_params = object_grid_search.best_params_`"
   ]
  }
 ],
 "metadata": {
  "kernelspec": {
   "display_name": "Python 3 (ipykernel)",
   "language": "python",
   "name": "python3"
  },
  "language_info": {
   "codemirror_mode": {
    "name": "ipython",
    "version": 3
   },
   "file_extension": ".py",
   "mimetype": "text/x-python",
   "name": "python",
   "nbconvert_exporter": "python",
   "pygments_lexer": "ipython3",
   "version": "3.11.2"
  }
 },
 "nbformat": 4,
 "nbformat_minor": 5
}
